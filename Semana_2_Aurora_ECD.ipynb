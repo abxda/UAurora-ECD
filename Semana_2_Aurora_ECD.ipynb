{
  "nbformat": 4,
  "nbformat_minor": 0,
  "metadata": {
    "colab": {
      "provenance": [],
      "authorship_tag": "ABX9TyNQadfBCIr1Hu9Disqsfl7k",
      "include_colab_link": true
    },
    "kernelspec": {
      "name": "python3",
      "display_name": "Python 3"
    },
    "language_info": {
      "name": "python"
    }
  },
  "cells": [
    {
      "cell_type": "markdown",
      "metadata": {
        "id": "view-in-github",
        "colab_type": "text"
      },
      "source": [
        "<a href=\"https://colab.research.google.com/github/abxda/UAurora-ECD/blob/main/Semana_2_Aurora_ECD.ipynb\" target=\"_parent\"><img src=\"https://colab.research.google.com/assets/colab-badge.svg\" alt=\"Open In Colab\"/></a>"
      ]
    },
    {
      "cell_type": "code",
      "execution_count": null,
      "metadata": {
        "id": "6rrZeQU5UZ1_"
      },
      "outputs": [],
      "source": [
        "import pandas as pd\n",
        "import matplotlib.pyplot as plt\n",
        "\n",
        "# Asegurémonos de que los gráficos se muestren directamente en Colab\n",
        "%matplotlib inline"
      ]
    },
    {
      "cell_type": "code",
      "source": [
        "data_nominal = pd.DataFrame({'Color de Ojos': ['Café', 'Azul', 'Verde', 'Café', 'Café', 'Azul', 'Otro', 'Verde']})\n",
        "\n",
        "# Calculamos la frecuencia de cada categoría\n",
        "frecuencia_color = data_nominal['Color de Ojos'].value_counts()\n",
        "print(\"Tabla de Frecuencias para Color de Ojos:\\n\", frecuencia_color)"
      ],
      "metadata": {
        "id": "HvweRSosUkL0"
      },
      "execution_count": null,
      "outputs": []
    },
    {
      "cell_type": "code",
      "source": [
        "plt.figure(figsize=(8, 8))\n",
        "plt.pie(frecuencia_color, labels=frecuencia_color.index, autopct='%1.1f%%', startangle=140)\n",
        "plt.title('Distribución de Color de Ojos (Variable Nominal)')\n",
        "plt.ylabel('')  # Para evitar una etiqueta 'Color de Ojos' superpuesta\n",
        "plt.show()"
      ],
      "metadata": {
        "id": "ldhQTG9tUugC"
      },
      "execution_count": null,
      "outputs": []
    },
    {
      "cell_type": "code",
      "source": [
        "plt.figure(figsize=(10, 6))\n",
        "frecuencia_color.plot(kind='bar', color='skyblue')\n",
        "plt.title('Frecuencia de Color de Ojos (Variable Nominal)')\n",
        "plt.xlabel('Color de Ojos')\n",
        "plt.ylabel('Frecuencia')\n",
        "plt.xticks(rotation=45)\n",
        "plt.tight_layout()\n",
        "plt.show()"
      ],
      "metadata": {
        "id": "-9DJ9aPtU0ji"
      },
      "execution_count": null,
      "outputs": []
    },
    {
      "cell_type": "code",
      "source": [
        "data_ordinal = pd.DataFrame({'Nivel de Satisfacción': ['Bajo', 'Medio', 'Alto', 'Medio', 'Bajo', 'Muy Alto', 'Alto', 'Medio', 'Bajo', 'Muy Alto']})\n",
        "\n",
        "# Es importante mantener el orden de las categorías ordinales\n",
        "orden_satisfaccion = ['Bajo', 'Medio', 'Alto', 'Muy Alto']\n",
        "data_ordinal['Nivel de Satisfacción'] = pd.Categorical(data_ordinal['Nivel de Satisfacción'], categories=orden_satisfaccion, ordered=True)\n",
        "\n",
        "frecuencia_satisfaccion = data_ordinal['Nivel de Satisfacción'].value_counts().sort_index()\n",
        "print(\"\\nTabla de Frecuencias para Nivel de Satisfacción:\\n\", frecuencia_satisfaccion)\n"
      ],
      "metadata": {
        "id": "_mIlHCdYU53R"
      },
      "execution_count": null,
      "outputs": []
    },
    {
      "cell_type": "code",
      "source": [
        "plt.figure(figsize=(10, 6))\n",
        "frecuencia_satisfaccion.plot(kind='bar', color='lightcoral')\n",
        "plt.title('Frecuencia de Nivel de Satisfacción (Variable Ordinal)')\n",
        "plt.xlabel('Nivel de Satisfacción')\n",
        "plt.ylabel('Frecuencia')\n",
        "plt.xticks(rotation=0) # Mantenemos las etiquetas horizontales para facilitar la lectura del orden\n",
        "plt.tight_layout()\n",
        "plt.show()"
      ],
      "metadata": {
        "id": "U95g-JTOU93r"
      },
      "execution_count": null,
      "outputs": []
    },
    {
      "cell_type": "code",
      "source": [
        "data_interval_numerico = pd.DataFrame({'Temperatura (Celsius)': [1.5, 2.8, 4.5, 7.1, 12.3, 3.2]})\n",
        "\n",
        "plt.figure(figsize=(10, 6))\n",
        "plt.hist(data_interval_numerico['Temperatura (Celsius)'], bins='auto', color='lightgreen', edgecolor='black')\n",
        "plt.title('Distribución de Temperatura (Celsius)')\n",
        "plt.xlabel('Temperatura (Celsius)')\n",
        "plt.ylabel('Frecuencia')\n",
        "plt.tight_layout()\n",
        "plt.show()"
      ],
      "metadata": {
        "id": "OqJE88f2VDct"
      },
      "execution_count": null,
      "outputs": []
    },
    {
      "cell_type": "code",
      "source": [
        "import pandas as pd\n",
        "import matplotlib.pyplot as plt\n",
        "\n",
        "# Datos de ejemplo: lista realista de edades\n",
        "data_ratio = pd.DataFrame({\n",
        "    'Edad': [3, 7, 15, 22, 28, 35, 42, 50, 60, 70, 80]\n",
        "})\n",
        "\n",
        "plt.figure(figsize=(10, 6))\n",
        "# Se definen bins de 10 en 10 para abarcar el rango de edades\n",
        "plt.hist(data_ratio['Edad'], bins=range(0, 90, 10), color='skyblue', edgecolor='black', alpha=0.7)\n",
        "plt.title('Distribución de Edad (Variable de Razón)', fontsize=14)\n",
        "plt.xlabel('Edad (años)', fontsize=12)\n",
        "plt.ylabel('Frecuencia', fontsize=12)\n",
        "plt.grid(axis='y', linestyle='--', alpha=0.7)\n",
        "plt.tight_layout()\n",
        "plt.show()\n"
      ],
      "metadata": {
        "id": "1gsxGERkVN5L"
      },
      "execution_count": null,
      "outputs": []
    },
    {
      "cell_type": "code",
      "source": [],
      "metadata": {
        "id": "uBcleJt2WPLC"
      },
      "execution_count": null,
      "outputs": []
    },
    {
      "cell_type": "code",
      "source": [],
      "metadata": {
        "id": "s_wnYE71glip"
      },
      "execution_count": null,
      "outputs": []
    },
    {
      "cell_type": "markdown",
      "source": [
        "## Introducción\n",
        "\n",
        "Los histogramas dividen los datos en intervalos (bins) y muestran la frecuencia (o densidad) de los datos en cada intervalo. Esta sección abarca desde la construcción básica de histogramas hasta técnicas más avanzadas, incluyendo la comparación de distribuciones y la visualización con Seaborn."
      ],
      "metadata": {
        "id": "swX4Eneigluv"
      }
    },
    {
      "cell_type": "code",
      "source": [
        "# Importación de librerías\n",
        "import pandas as pd        # Para manejo de datos en estructuras tipo DataFrame\n",
        "import numpy as np         # Para operaciones numéricas y generación de datos sintéticos\n",
        "import matplotlib.pyplot as plt   # Para la creación de gráficos\n",
        "import seaborn as sns      # Para gráficos estadísticos con estilos mejorados\n",
        "\n",
        "print(\"✅ Librerías cargadas correctamente!\")\n"
      ],
      "metadata": {
        "id": "uyAl9zdpgmNL"
      },
      "execution_count": null,
      "outputs": []
    },
    {
      "cell_type": "markdown",
      "source": [
        "Explicación:\n",
        "Se importan las librerías fundamentales. Pandas y NumPy sirven para el manejo y generación de datos, mientras que Matplotlib y Seaborn se utilizan para crear y estilizar las visualizaciones.\n",
        "Estas herramientas permiten un análisis y visualización completos de las distribuciones."
      ],
      "metadata": {
        "id": "2NCu4QmchD2Q"
      }
    },
    {
      "cell_type": "markdown",
      "source": [
        "## 1. Construcción Básica de un Histograma\n",
        "\n",
        "En esta sección se muestra cómo construir un histograma básico utilizando datos de temperatura.  \n",
        "Utilizaremos un DataFrame sencillo y la función `hist` de Matplotlib para visualizar la distribución."
      ],
      "metadata": {
        "id": "YqvHcjnNhHoF"
      }
    },
    {
      "cell_type": "code",
      "source": [
        "# Datos de ejemplo: temperaturas en grados Celsius\n",
        "data_interval = pd.DataFrame({\n",
        "    'Temperatura (Celsius)': [1.5, 2.8, 4.5, 7.1, 12.3, 3.2, 8.9, 6.5, 5.5, 10.2]\n",
        "})\n",
        "\n",
        "# Visualización básica del histograma\n",
        "plt.figure(figsize=(10, 6))\n",
        "plt.hist(data_interval['Temperatura (Celsius)'],\n",
        "         bins='auto',                # 'auto' permite que Python seleccione un número adecuado de bins\n",
        "         color='lightgreen',         # Color de las barras\n",
        "         edgecolor='black')          # Color del borde de las barras\n",
        "plt.title('Distribución de Temperatura')\n",
        "plt.xlabel('Temperatura (Celsius)')\n",
        "plt.ylabel('Frecuencia')\n",
        "plt.tight_layout()                 # Ajusta la distribución de los elementos del gráfico\n",
        "plt.show()\n"
      ],
      "metadata": {
        "id": "uabGHo6wguby"
      },
      "execution_count": null,
      "outputs": []
    },
    {
      "cell_type": "markdown",
      "source": [
        "Se crea un histograma que muestra la frecuencia de los valores de temperatura.\n",
        "La opción bins='auto' ayuda a elegir un número adecuado de intervalos sin intervención manual, facilitando una primera exploración de los datos."
      ],
      "metadata": {
        "id": "DHgy1UyuhPim"
      }
    },
    {
      "cell_type": "markdown",
      "source": [
        "## 2. Ajuste del Tamaño de los Bins\n",
        "\n",
        "La elección del tamaño de los bins es crucial, ya que afecta la interpretación visual de la distribución.  \n",
        "En esta sección se experimenta con un tamaño fijo para los bins, lo que puede ayudar a resaltar agrupaciones específicas en los datos.\n"
      ],
      "metadata": {
        "id": "vj9hXL2fhUG2"
      }
    },
    {
      "cell_type": "code",
      "source": [
        "# Definición manual de los bins: desde 0 hasta 15 con intervalos de 2 grados.\n",
        "bins_range = range(0, 15, 2)\n",
        "\n",
        "plt.figure(figsize=(10, 6))\n",
        "plt.hist(data_interval['Temperatura (Celsius)'],\n",
        "         bins=bins_range,           # Se utiliza el rango definido para los bins\n",
        "         color='lightblue',\n",
        "         edgecolor='black')\n",
        "plt.title('Distribución con Bins de 2°C')\n",
        "plt.xlabel('Temperatura (Celsius)')\n",
        "plt.ylabel('Frecuencia')\n",
        "plt.xticks(bins_range)              # Configura las marcas del eje X para que coincidan con los bins\n",
        "plt.tight_layout()\n",
        "plt.show()\n"
      ],
      "metadata": {
        "id": "NW1fFB1whOlm"
      },
      "execution_count": null,
      "outputs": []
    },
    {
      "cell_type": "markdown",
      "source": [
        "Aquí se define manualmente el tamaño de cada bin (intervalo de 2°C).\n",
        "Esto permite una comparación más precisa y facilita la interpretación de la agrupación de los datos en rangos específicos."
      ],
      "metadata": {
        "id": "45zQ-czhhnQ0"
      }
    },
    {
      "cell_type": "markdown",
      "source": [
        "## 3. Frecuencia Absoluta vs. Frecuencia Relativa\n",
        "\n",
        "En algunos casos, es útil visualizar la distribución en términos de densidad (frecuencia relativa) en lugar de la frecuencia absoluta.  \n",
        "Esto es particularmente importante cuando se comparan conjuntos de datos de diferentes tamaños."
      ],
      "metadata": {
        "id": "6Mibn-X9hq8g"
      }
    },
    {
      "cell_type": "code",
      "source": [
        "plt.figure(figsize=(10, 6))\n",
        "plt.hist(data_interval['Temperatura (Celsius)'],\n",
        "         bins=bins_range,\n",
        "         density=True,              # Con density=True, el área total del histograma es 1 (representa densidad)\n",
        "         color='salmon',\n",
        "         edgecolor='black')\n",
        "plt.title('Distribución con Densidad')\n",
        "plt.xlabel('Temperatura (Celsius)')\n",
        "plt.ylabel('Densidad')\n",
        "plt.xticks(bins_range)\n",
        "plt.tight_layout()\n",
        "plt.show()\n"
      ],
      "metadata": {
        "id": "WdiioIOthLhw"
      },
      "execution_count": null,
      "outputs": []
    },
    {
      "cell_type": "markdown",
      "source": [
        "Explicación:\n",
        "Al normalizar el histograma (usando density=True), la altura de cada barra representa la densidad de probabilidad en ese intervalo.\n",
        "Esta transformación es útil para comparar distribuciones, ya que la suma de las áreas de las barras será 1."
      ],
      "metadata": {
        "id": "ADOFOR5wh1UQ"
      }
    },
    {
      "cell_type": "markdown",
      "source": [
        "## 4. Ejemplo con Variable de Razón (Edad)\n",
        "\n",
        "Los histogramas también son útiles para analizar variables de razón, donde el cero tiene un significado real (por ejemplo, la edad).  \n",
        "Aquí se muestra la distribución de edades utilizando un conjunto de datos sencillo.\n"
      ],
      "metadata": {
        "id": "g-3eGqszh4ym"
      }
    },
    {
      "cell_type": "code",
      "source": [
        "# Datos de ejemplo: lista de edades\n",
        "data_ratio = pd.DataFrame({\n",
        "    'Edad': [3, 7, 15, 22, 28, 35, 42, 50, 60, 70, 80]\n",
        "})\n",
        "\n",
        "plt.figure(figsize=(10, 6))\n",
        "plt.hist(data_ratio['Edad'],\n",
        "         bins=range(0, 90, 10),       # Bins de tamaño 10 para cubrir el rango de edades\n",
        "         color='skyblue',\n",
        "         edgecolor='black',\n",
        "         alpha=0.7)                  # Transparencia para un efecto visual más suave\n",
        "plt.title('Distribución de Edades')\n",
        "plt.xlabel('Edad (años)')\n",
        "plt.ylabel('Frecuencia')\n",
        "plt.grid(axis='y', linestyle='--')  # Agrega una cuadrícula horizontal para facilitar la lectura\n",
        "plt.tight_layout()\n",
        "plt.show()\n"
      ],
      "metadata": {
        "id": "6AcfXGLbhtAK"
      },
      "execution_count": null,
      "outputs": []
    },
    {
      "cell_type": "markdown",
      "source": [
        "Este histograma agrupa las edades en intervalos de 10 años, lo que permite identificar en qué rangos se concentra la mayoría de la población.\n",
        "La cuadrícula mejora la visualización de las diferencias en frecuencia entre los bins."
      ],
      "metadata": {
        "id": "5Br-plsDiDLJ"
      }
    }
  ]
}